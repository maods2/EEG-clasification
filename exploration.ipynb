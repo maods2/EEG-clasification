{
 "cells": [
  {
   "cell_type": "code",
   "execution_count": 5,
   "metadata": {},
   "outputs": [],
   "source": [
    "import pandas as pd\n",
    "import numpy \n",
    "import scipy.io as io\n",
    "import os\n",
    "import matplotlib.pyplot as plt\n",
    "from load_eeg import load_bbci_data, load_train_valid_test\n"
   ]
  },
  {
   "cell_type": "code",
   "execution_count": 15,
   "metadata": {},
   "outputs": [
    {
     "ename": "FileNotFoundError",
     "evalue": "[Errno 2] Unable to open file (unable to open file: name = '/high_gamma_dataset_dataset/train/5.mat', errno = 2, error message = 'No such file or directory', flags = 0, o_flags = 0)",
     "output_type": "error",
     "traceback": [
      "\u001b[1;31m---------------------------------------------------------------------------\u001b[0m",
      "\u001b[1;31mFileNotFoundError\u001b[0m                         Traceback (most recent call last)",
      "\u001b[1;32mc:\\Users\\msant429\\Desktop\\TCC\\exploration.ipynb Cell 2'\u001b[0m in \u001b[0;36m<cell line: 12>\u001b[1;34m()\u001b[0m\n\u001b[0;32m      <a href='vscode-notebook-cell:/c%3A/Users/msant429/Desktop/TCC/exploration.ipynb#ch0000001?line=5'>6</a>\u001b[0m train_filename \u001b[39m=\u001b[39m  os\u001b[39m.\u001b[39mpath\u001b[39m.\u001b[39mjoin(\n\u001b[0;32m      <a href='vscode-notebook-cell:/c%3A/Users/msant429/Desktop/TCC/exploration.ipynb#ch0000001?line=6'>7</a>\u001b[0m     data_folder, \u001b[39m'\u001b[39m\u001b[39mtrain/\u001b[39m\u001b[39m{:d}\u001b[39;00m\u001b[39m.mat\u001b[39m\u001b[39m'\u001b[39m\u001b[39m.\u001b[39mformat(subject_id))\n\u001b[0;32m      <a href='vscode-notebook-cell:/c%3A/Users/msant429/Desktop/TCC/exploration.ipynb#ch0000001?line=7'>8</a>\u001b[0m test_filename \u001b[39m=\u001b[39m  os\u001b[39m.\u001b[39mpath\u001b[39m.\u001b[39mjoin(\n\u001b[0;32m      <a href='vscode-notebook-cell:/c%3A/Users/msant429/Desktop/TCC/exploration.ipynb#ch0000001?line=8'>9</a>\u001b[0m     data_folder, \u001b[39m'\u001b[39m\u001b[39mtest/\u001b[39m\u001b[39m{:d}\u001b[39;00m\u001b[39m.mat\u001b[39m\u001b[39m'\u001b[39m\u001b[39m.\u001b[39mformat(subject_id))\n\u001b[1;32m---> <a href='vscode-notebook-cell:/c%3A/Users/msant429/Desktop/TCC/exploration.ipynb#ch0000001?line=11'>12</a>\u001b[0m train_set, valid_set, test_set \u001b[39m=\u001b[39m load_train_valid_test(\n\u001b[0;32m     <a href='vscode-notebook-cell:/c%3A/Users/msant429/Desktop/TCC/exploration.ipynb#ch0000001?line=12'>13</a>\u001b[0m     train_filename\u001b[39m=\u001b[39;49mtrain_filename,\n\u001b[0;32m     <a href='vscode-notebook-cell:/c%3A/Users/msant429/Desktop/TCC/exploration.ipynb#ch0000001?line=13'>14</a>\u001b[0m     test_filename\u001b[39m=\u001b[39;49mtest_filename,\n\u001b[0;32m     <a href='vscode-notebook-cell:/c%3A/Users/msant429/Desktop/TCC/exploration.ipynb#ch0000001?line=14'>15</a>\u001b[0m     low_cut_hz\u001b[39m=\u001b[39;49mlow_cut_hz, debug\u001b[39m=\u001b[39;49mdebug)\n",
      "File \u001b[1;32mc:\\Users\\msant429\\Desktop\\TCC\\load_eeg.py:108\u001b[0m, in \u001b[0;36mload_train_valid_test\u001b[1;34m(train_filename, test_filename, low_cut_hz, debug)\u001b[0m\n\u001b[0;32m    <a href='file:///c%3A/Users/msant429/Desktop/TCC/load_eeg.py?line=104'>105</a>\u001b[0m \u001b[39mdef\u001b[39;00m \u001b[39mload_train_valid_test\u001b[39m(\n\u001b[0;32m    <a href='file:///c%3A/Users/msant429/Desktop/TCC/load_eeg.py?line=105'>106</a>\u001b[0m         train_filename, test_filename, low_cut_hz, debug\u001b[39m=\u001b[39m\u001b[39mFalse\u001b[39;00m):\n\u001b[0;32m    <a href='file:///c%3A/Users/msant429/Desktop/TCC/load_eeg.py?line=106'>107</a>\u001b[0m     log\u001b[39m.\u001b[39minfo(\u001b[39m\"\u001b[39m\u001b[39mLoading train...\u001b[39m\u001b[39m\"\u001b[39m)\n\u001b[1;32m--> <a href='file:///c%3A/Users/msant429/Desktop/TCC/load_eeg.py?line=107'>108</a>\u001b[0m     full_train_set \u001b[39m=\u001b[39m load_bbci_data(\n\u001b[0;32m    <a href='file:///c%3A/Users/msant429/Desktop/TCC/load_eeg.py?line=108'>109</a>\u001b[0m         train_filename, low_cut_hz\u001b[39m=\u001b[39;49mlow_cut_hz, debug\u001b[39m=\u001b[39;49mdebug)\n\u001b[0;32m    <a href='file:///c%3A/Users/msant429/Desktop/TCC/load_eeg.py?line=110'>111</a>\u001b[0m     log\u001b[39m.\u001b[39minfo(\u001b[39m\"\u001b[39m\u001b[39mLoading test...\u001b[39m\u001b[39m\"\u001b[39m)\n\u001b[0;32m    <a href='file:///c%3A/Users/msant429/Desktop/TCC/load_eeg.py?line=111'>112</a>\u001b[0m     test_set \u001b[39m=\u001b[39m load_bbci_data(\n\u001b[0;32m    <a href='file:///c%3A/Users/msant429/Desktop/TCC/load_eeg.py?line=112'>113</a>\u001b[0m         test_filename, low_cut_hz\u001b[39m=\u001b[39mlow_cut_hz, debug\u001b[39m=\u001b[39mdebug)\n",
      "File \u001b[1;32mc:\\Users\\msant429\\Desktop\\TCC\\load_eeg.py:45\u001b[0m, in \u001b[0;36mload_bbci_data\u001b[1;34m(filename, low_cut_hz, debug)\u001b[0m\n\u001b[0;32m     <a href='file:///c%3A/Users/msant429/Desktop/TCC/load_eeg.py?line=41'>42</a>\u001b[0m loader \u001b[39m=\u001b[39m BBCIDataset(filename, load_sensor_names\u001b[39m=\u001b[39mload_sensor_names)\n\u001b[0;32m     <a href='file:///c%3A/Users/msant429/Desktop/TCC/load_eeg.py?line=43'>44</a>\u001b[0m log\u001b[39m.\u001b[39minfo(\u001b[39m\"\u001b[39m\u001b[39mLoading data...\u001b[39m\u001b[39m\"\u001b[39m)\n\u001b[1;32m---> <a href='file:///c%3A/Users/msant429/Desktop/TCC/load_eeg.py?line=44'>45</a>\u001b[0m cnt \u001b[39m=\u001b[39m loader\u001b[39m.\u001b[39;49mload()\n\u001b[0;32m     <a href='file:///c%3A/Users/msant429/Desktop/TCC/load_eeg.py?line=46'>47</a>\u001b[0m \u001b[39m# Cleaning: First find all trials that have absolute microvolt values\u001b[39;00m\n\u001b[0;32m     <a href='file:///c%3A/Users/msant429/Desktop/TCC/load_eeg.py?line=47'>48</a>\u001b[0m \u001b[39m# larger than +- 800 inside them and remember them for removal later\u001b[39;00m\n\u001b[0;32m     <a href='file:///c%3A/Users/msant429/Desktop/TCC/load_eeg.py?line=48'>49</a>\u001b[0m log\u001b[39m.\u001b[39minfo(\u001b[39m\"\u001b[39m\u001b[39mCutting trials...\u001b[39m\u001b[39m\"\u001b[39m)\n",
      "File \u001b[1;32mc:\\Users\\msant429\\Desktop\\TCC\\env_tcc_eeg\\lib\\site-packages\\braindecode\\datasets\\bbci.py:35\u001b[0m, in \u001b[0;36mBBCIDataset.load\u001b[1;34m(self)\u001b[0m\n\u001b[0;32m     <a href='file:///c%3A/Users/msant429/Desktop/TCC/env_tcc_eeg/lib/site-packages/braindecode/datasets/bbci.py?line=33'>34</a>\u001b[0m \u001b[39mdef\u001b[39;00m \u001b[39mload\u001b[39m(\u001b[39mself\u001b[39m):\n\u001b[1;32m---> <a href='file:///c%3A/Users/msant429/Desktop/TCC/env_tcc_eeg/lib/site-packages/braindecode/datasets/bbci.py?line=34'>35</a>\u001b[0m     cnt \u001b[39m=\u001b[39m \u001b[39mself\u001b[39;49m\u001b[39m.\u001b[39;49m_load_continuous_signal()\n\u001b[0;32m     <a href='file:///c%3A/Users/msant429/Desktop/TCC/env_tcc_eeg/lib/site-packages/braindecode/datasets/bbci.py?line=35'>36</a>\u001b[0m     cnt \u001b[39m=\u001b[39m \u001b[39mself\u001b[39m\u001b[39m.\u001b[39m_add_markers(cnt)\n\u001b[0;32m     <a href='file:///c%3A/Users/msant429/Desktop/TCC/env_tcc_eeg/lib/site-packages/braindecode/datasets/bbci.py?line=36'>37</a>\u001b[0m     \u001b[39mreturn\u001b[39;00m cnt\n",
      "File \u001b[1;32mc:\\Users\\msant429\\Desktop\\TCC\\env_tcc_eeg\\lib\\site-packages\\braindecode\\datasets\\bbci.py:40\u001b[0m, in \u001b[0;36mBBCIDataset._load_continuous_signal\u001b[1;34m(self)\u001b[0m\n\u001b[0;32m     <a href='file:///c%3A/Users/msant429/Desktop/TCC/env_tcc_eeg/lib/site-packages/braindecode/datasets/bbci.py?line=38'>39</a>\u001b[0m \u001b[39mdef\u001b[39;00m \u001b[39m_load_continuous_signal\u001b[39m(\u001b[39mself\u001b[39m):\n\u001b[1;32m---> <a href='file:///c%3A/Users/msant429/Desktop/TCC/env_tcc_eeg/lib/site-packages/braindecode/datasets/bbci.py?line=39'>40</a>\u001b[0m     wanted_chan_inds, wanted_sensor_names \u001b[39m=\u001b[39m \u001b[39mself\u001b[39;49m\u001b[39m.\u001b[39;49m_determine_sensors()\n\u001b[0;32m     <a href='file:///c%3A/Users/msant429/Desktop/TCC/env_tcc_eeg/lib/site-packages/braindecode/datasets/bbci.py?line=40'>41</a>\u001b[0m     fs \u001b[39m=\u001b[39m \u001b[39mself\u001b[39m\u001b[39m.\u001b[39m_determine_samplingrate()\n\u001b[0;32m     <a href='file:///c%3A/Users/msant429/Desktop/TCC/env_tcc_eeg/lib/site-packages/braindecode/datasets/bbci.py?line=41'>42</a>\u001b[0m     \u001b[39mwith\u001b[39;00m h5py\u001b[39m.\u001b[39mFile(\u001b[39mself\u001b[39m\u001b[39m.\u001b[39mfilename, \u001b[39m'\u001b[39m\u001b[39mr\u001b[39m\u001b[39m'\u001b[39m) \u001b[39mas\u001b[39;00m h5file:\n",
      "File \u001b[1;32mc:\\Users\\msant429\\Desktop\\TCC\\env_tcc_eeg\\lib\\site-packages\\braindecode\\datasets\\bbci.py:68\u001b[0m, in \u001b[0;36mBBCIDataset._determine_sensors\u001b[1;34m(self)\u001b[0m\n\u001b[0;32m     <a href='file:///c%3A/Users/msant429/Desktop/TCC/env_tcc_eeg/lib/site-packages/braindecode/datasets/bbci.py?line=66'>67</a>\u001b[0m \u001b[39mdef\u001b[39;00m \u001b[39m_determine_sensors\u001b[39m(\u001b[39mself\u001b[39m):\n\u001b[1;32m---> <a href='file:///c%3A/Users/msant429/Desktop/TCC/env_tcc_eeg/lib/site-packages/braindecode/datasets/bbci.py?line=67'>68</a>\u001b[0m     all_sensor_names \u001b[39m=\u001b[39m \u001b[39mself\u001b[39;49m\u001b[39m.\u001b[39;49mget_all_sensors(\u001b[39mself\u001b[39;49m\u001b[39m.\u001b[39;49mfilename, pattern\u001b[39m=\u001b[39;49m\u001b[39mNone\u001b[39;49;00m)\n\u001b[0;32m     <a href='file:///c%3A/Users/msant429/Desktop/TCC/env_tcc_eeg/lib/site-packages/braindecode/datasets/bbci.py?line=68'>69</a>\u001b[0m     \u001b[39mif\u001b[39;00m \u001b[39mself\u001b[39m\u001b[39m.\u001b[39mload_sensor_names \u001b[39mis\u001b[39;00m \u001b[39mNone\u001b[39;00m:\n\u001b[0;32m     <a href='file:///c%3A/Users/msant429/Desktop/TCC/env_tcc_eeg/lib/site-packages/braindecode/datasets/bbci.py?line=69'>70</a>\u001b[0m \n\u001b[0;32m     <a href='file:///c%3A/Users/msant429/Desktop/TCC/env_tcc_eeg/lib/site-packages/braindecode/datasets/bbci.py?line=70'>71</a>\u001b[0m         \u001b[39m# if no sensor names given, take all EEG-chans\u001b[39;00m\n\u001b[0;32m     <a href='file:///c%3A/Users/msant429/Desktop/TCC/env_tcc_eeg/lib/site-packages/braindecode/datasets/bbci.py?line=71'>72</a>\u001b[0m         eeg_sensor_names \u001b[39m=\u001b[39m all_sensor_names\n",
      "File \u001b[1;32mc:\\Users\\msant429\\Desktop\\TCC\\env_tcc_eeg\\lib\\site-packages\\braindecode\\datasets\\bbci.py:127\u001b[0m, in \u001b[0;36mBBCIDataset.get_all_sensors\u001b[1;34m(filename, pattern)\u001b[0m\n\u001b[0;32m    <a href='file:///c%3A/Users/msant429/Desktop/TCC/env_tcc_eeg/lib/site-packages/braindecode/datasets/bbci.py?line=110'>111</a>\u001b[0m \u001b[39m@staticmethod\u001b[39m\n\u001b[0;32m    <a href='file:///c%3A/Users/msant429/Desktop/TCC/env_tcc_eeg/lib/site-packages/braindecode/datasets/bbci.py?line=111'>112</a>\u001b[0m \u001b[39mdef\u001b[39;00m \u001b[39mget_all_sensors\u001b[39m(filename, pattern\u001b[39m=\u001b[39m\u001b[39mNone\u001b[39;00m):\n\u001b[0;32m    <a href='file:///c%3A/Users/msant429/Desktop/TCC/env_tcc_eeg/lib/site-packages/braindecode/datasets/bbci.py?line=112'>113</a>\u001b[0m     \u001b[39m\"\"\"\u001b[39;00m\n\u001b[0;32m    <a href='file:///c%3A/Users/msant429/Desktop/TCC/env_tcc_eeg/lib/site-packages/braindecode/datasets/bbci.py?line=113'>114</a>\u001b[0m \u001b[39m    Get all sensors that exist in the given file.\u001b[39;00m\n\u001b[0;32m    <a href='file:///c%3A/Users/msant429/Desktop/TCC/env_tcc_eeg/lib/site-packages/braindecode/datasets/bbci.py?line=114'>115</a>\u001b[0m \u001b[39m    \u001b[39;00m\n\u001b[1;32m   (...)\u001b[0m\n\u001b[0;32m    <a href='file:///c%3A/Users/msant429/Desktop/TCC/env_tcc_eeg/lib/site-packages/braindecode/datasets/bbci.py?line=124'>125</a>\u001b[0m \u001b[39m        Sensor names that match the pattern or all sensor names in the file.\u001b[39;00m\n\u001b[0;32m    <a href='file:///c%3A/Users/msant429/Desktop/TCC/env_tcc_eeg/lib/site-packages/braindecode/datasets/bbci.py?line=125'>126</a>\u001b[0m \u001b[39m    \"\"\"\u001b[39;00m\n\u001b[1;32m--> <a href='file:///c%3A/Users/msant429/Desktop/TCC/env_tcc_eeg/lib/site-packages/braindecode/datasets/bbci.py?line=126'>127</a>\u001b[0m     \u001b[39mwith\u001b[39;00m h5py\u001b[39m.\u001b[39;49mFile(filename, \u001b[39m'\u001b[39;49m\u001b[39mr\u001b[39;49m\u001b[39m'\u001b[39;49m) \u001b[39mas\u001b[39;00m h5file:\n\u001b[0;32m    <a href='file:///c%3A/Users/msant429/Desktop/TCC/env_tcc_eeg/lib/site-packages/braindecode/datasets/bbci.py?line=127'>128</a>\u001b[0m         clab_set \u001b[39m=\u001b[39m h5file[\u001b[39m'\u001b[39m\u001b[39mnfo\u001b[39m\u001b[39m'\u001b[39m][\u001b[39m'\u001b[39m\u001b[39mclab\u001b[39m\u001b[39m'\u001b[39m][:]\u001b[39m.\u001b[39msqueeze()\n\u001b[0;32m    <a href='file:///c%3A/Users/msant429/Desktop/TCC/env_tcc_eeg/lib/site-packages/braindecode/datasets/bbci.py?line=128'>129</a>\u001b[0m         all_sensor_names \u001b[39m=\u001b[39m [\u001b[39m'\u001b[39m\u001b[39m'\u001b[39m\u001b[39m.\u001b[39mjoin(\u001b[39mchr\u001b[39m(c) \u001b[39mfor\u001b[39;00m c \u001b[39min\u001b[39;00m h5file[obj_ref]) \u001b[39mfor\u001b[39;00m\n\u001b[0;32m    <a href='file:///c%3A/Users/msant429/Desktop/TCC/env_tcc_eeg/lib/site-packages/braindecode/datasets/bbci.py?line=129'>130</a>\u001b[0m                             obj_ref \u001b[39min\u001b[39;00m clab_set]\n",
      "File \u001b[1;32mc:\\Users\\msant429\\Desktop\\TCC\\env_tcc_eeg\\lib\\site-packages\\h5py\\_hl\\files.py:507\u001b[0m, in \u001b[0;36mFile.__init__\u001b[1;34m(self, name, mode, driver, libver, userblock_size, swmr, rdcc_nslots, rdcc_nbytes, rdcc_w0, track_order, fs_strategy, fs_persist, fs_threshold, fs_page_size, page_buf_size, min_meta_keep, min_raw_keep, locking, **kwds)\u001b[0m\n\u001b[0;32m    <a href='file:///c%3A/Users/msant429/Desktop/TCC/env_tcc_eeg/lib/site-packages/h5py/_hl/files.py?line=501'>502</a>\u001b[0m     fapl \u001b[39m=\u001b[39m make_fapl(driver, libver, rdcc_nslots, rdcc_nbytes, rdcc_w0,\n\u001b[0;32m    <a href='file:///c%3A/Users/msant429/Desktop/TCC/env_tcc_eeg/lib/site-packages/h5py/_hl/files.py?line=502'>503</a>\u001b[0m                      locking, page_buf_size, min_meta_keep, min_raw_keep, \u001b[39m*\u001b[39m\u001b[39m*\u001b[39mkwds)\n\u001b[0;32m    <a href='file:///c%3A/Users/msant429/Desktop/TCC/env_tcc_eeg/lib/site-packages/h5py/_hl/files.py?line=503'>504</a>\u001b[0m     fcpl \u001b[39m=\u001b[39m make_fcpl(track_order\u001b[39m=\u001b[39mtrack_order, fs_strategy\u001b[39m=\u001b[39mfs_strategy,\n\u001b[0;32m    <a href='file:///c%3A/Users/msant429/Desktop/TCC/env_tcc_eeg/lib/site-packages/h5py/_hl/files.py?line=504'>505</a>\u001b[0m                      fs_persist\u001b[39m=\u001b[39mfs_persist, fs_threshold\u001b[39m=\u001b[39mfs_threshold,\n\u001b[0;32m    <a href='file:///c%3A/Users/msant429/Desktop/TCC/env_tcc_eeg/lib/site-packages/h5py/_hl/files.py?line=505'>506</a>\u001b[0m                      fs_page_size\u001b[39m=\u001b[39mfs_page_size)\n\u001b[1;32m--> <a href='file:///c%3A/Users/msant429/Desktop/TCC/env_tcc_eeg/lib/site-packages/h5py/_hl/files.py?line=506'>507</a>\u001b[0m     fid \u001b[39m=\u001b[39m make_fid(name, mode, userblock_size, fapl, fcpl, swmr\u001b[39m=\u001b[39;49mswmr)\n\u001b[0;32m    <a href='file:///c%3A/Users/msant429/Desktop/TCC/env_tcc_eeg/lib/site-packages/h5py/_hl/files.py?line=508'>509</a>\u001b[0m \u001b[39mif\u001b[39;00m \u001b[39misinstance\u001b[39m(libver, \u001b[39mtuple\u001b[39m):\n\u001b[0;32m    <a href='file:///c%3A/Users/msant429/Desktop/TCC/env_tcc_eeg/lib/site-packages/h5py/_hl/files.py?line=509'>510</a>\u001b[0m     \u001b[39mself\u001b[39m\u001b[39m.\u001b[39m_libver \u001b[39m=\u001b[39m libver\n",
      "File \u001b[1;32mc:\\Users\\msant429\\Desktop\\TCC\\env_tcc_eeg\\lib\\site-packages\\h5py\\_hl\\files.py:220\u001b[0m, in \u001b[0;36mmake_fid\u001b[1;34m(name, mode, userblock_size, fapl, fcpl, swmr)\u001b[0m\n\u001b[0;32m    <a href='file:///c%3A/Users/msant429/Desktop/TCC/env_tcc_eeg/lib/site-packages/h5py/_hl/files.py?line=217'>218</a>\u001b[0m     \u001b[39mif\u001b[39;00m swmr \u001b[39mand\u001b[39;00m swmr_support:\n\u001b[0;32m    <a href='file:///c%3A/Users/msant429/Desktop/TCC/env_tcc_eeg/lib/site-packages/h5py/_hl/files.py?line=218'>219</a>\u001b[0m         flags \u001b[39m|\u001b[39m\u001b[39m=\u001b[39m h5f\u001b[39m.\u001b[39mACC_SWMR_READ\n\u001b[1;32m--> <a href='file:///c%3A/Users/msant429/Desktop/TCC/env_tcc_eeg/lib/site-packages/h5py/_hl/files.py?line=219'>220</a>\u001b[0m     fid \u001b[39m=\u001b[39m h5f\u001b[39m.\u001b[39;49mopen(name, flags, fapl\u001b[39m=\u001b[39;49mfapl)\n\u001b[0;32m    <a href='file:///c%3A/Users/msant429/Desktop/TCC/env_tcc_eeg/lib/site-packages/h5py/_hl/files.py?line=220'>221</a>\u001b[0m \u001b[39melif\u001b[39;00m mode \u001b[39m==\u001b[39m \u001b[39m'\u001b[39m\u001b[39mr+\u001b[39m\u001b[39m'\u001b[39m:\n\u001b[0;32m    <a href='file:///c%3A/Users/msant429/Desktop/TCC/env_tcc_eeg/lib/site-packages/h5py/_hl/files.py?line=221'>222</a>\u001b[0m     fid \u001b[39m=\u001b[39m h5f\u001b[39m.\u001b[39mopen(name, h5f\u001b[39m.\u001b[39mACC_RDWR, fapl\u001b[39m=\u001b[39mfapl)\n",
      "File \u001b[1;32mh5py\\_objects.pyx:54\u001b[0m, in \u001b[0;36mh5py._objects.with_phil.wrapper\u001b[1;34m()\u001b[0m\n",
      "File \u001b[1;32mh5py\\_objects.pyx:55\u001b[0m, in \u001b[0;36mh5py._objects.with_phil.wrapper\u001b[1;34m()\u001b[0m\n",
      "File \u001b[1;32mh5py\\h5f.pyx:106\u001b[0m, in \u001b[0;36mh5py.h5f.open\u001b[1;34m()\u001b[0m\n",
      "\u001b[1;31mFileNotFoundError\u001b[0m: [Errno 2] Unable to open file (unable to open file: name = '/high_gamma_dataset_dataset/train/5.mat', errno = 2, error message = 'No such file or directory', flags = 0, o_flags = 0)"
     ]
    }
   ],
   "source": [
    "subject_id = 5\n",
    "low_cut_hz = 0\n",
    "debug = True\n",
    "\n",
    "data_folder = r'/high_gamma_dataset_dataset/'\n",
    "train_filename =  os.path.join(\n",
    "    data_folder, 'train/{:d}.mat'.format(subject_id))\n",
    "test_filename =  os.path.join(\n",
    "    data_folder, 'test/{:d}.mat'.format(subject_id))\n",
    "\n",
    "\n",
    "train_set, valid_set, test_set = load_train_valid_test(\n",
    "    train_filename=train_filename,\n",
    "    test_filename=test_filename,\n",
    "    low_cut_hz=low_cut_hz, debug=debug)\n"
   ]
  },
  {
   "cell_type": "code",
   "execution_count": 19,
   "metadata": {},
   "outputs": [],
   "source": [
    "mat = io.loadmat('Left_Right_Hand_MI_dataset/s1_trial_sequence_v1.mat')"
   ]
  },
  {
   "cell_type": "code",
   "execution_count": 21,
   "metadata": {},
   "outputs": [],
   "source": []
  },
  {
   "cell_type": "code",
   "execution_count": 23,
   "metadata": {},
   "outputs": [
    {
     "ename": "TypeError",
     "evalue": "float() argument must be a string or a number, not 'tuple'",
     "output_type": "error",
     "traceback": [
      "\u001b[1;31m---------------------------------------------------------------------------\u001b[0m",
      "\u001b[1;31mTypeError\u001b[0m                                 Traceback (most recent call last)",
      "\u001b[1;32m~\\AppData\\Local\\Temp/ipykernel_19160/943973770.py\u001b[0m in \u001b[0;36m<module>\u001b[1;34m\u001b[0m\n\u001b[1;32m----> 1\u001b[1;33m \u001b[0mlist\u001b[0m\u001b[1;33m(\u001b[0m\u001b[0ma\u001b[0m\u001b[1;33m)\u001b[0m\u001b[1;33m\u001b[0m\u001b[1;33m\u001b[0m\u001b[0m\n\u001b[0m",
      "\u001b[1;32m~\\AppData\\Local\\Temp/ipykernel_19160/751837315.py\u001b[0m in \u001b[0;36m<lambda>\u001b[1;34m(x)\u001b[0m\n\u001b[1;32m----> 1\u001b[1;33m \u001b[0ma\u001b[0m \u001b[1;33m=\u001b[0m \u001b[0mmap\u001b[0m\u001b[1;33m(\u001b[0m\u001b[1;32mlambda\u001b[0m \u001b[0mx\u001b[0m\u001b[1;33m:\u001b[0m \u001b[0mfloat\u001b[0m\u001b[1;33m(\u001b[0m\u001b[0mx\u001b[0m\u001b[1;33m)\u001b[0m\u001b[1;33m,\u001b[0m\u001b[0mmat\u001b[0m\u001b[1;33m[\u001b[0m\u001b[1;34m'trial_sequence'\u001b[0m\u001b[1;33m]\u001b[0m\u001b[1;33m[\u001b[0m\u001b[1;36m0\u001b[0m\u001b[1;33m]\u001b[0m\u001b[1;33m)\u001b[0m\u001b[1;33m\u001b[0m\u001b[1;33m\u001b[0m\u001b[0m\n\u001b[0m",
      "\u001b[1;31mTypeError\u001b[0m: float() argument must be a string or a number, not 'tuple'"
     ]
    }
   ],
   "source": [
    "list(a)"
   ]
  }
 ],
 "metadata": {
  "interpreter": {
   "hash": "ac59ebe37160ed0dfa835113d9b8498d9f09ceb179beaac4002f036b9467c963"
  },
  "kernelspec": {
   "display_name": "Python 3.9.5 64-bit",
   "language": "python",
   "name": "python3"
  },
  "language_info": {
   "codemirror_mode": {
    "name": "ipython",
    "version": 3
   },
   "file_extension": ".py",
   "mimetype": "text/x-python",
   "name": "python",
   "nbconvert_exporter": "python",
   "pygments_lexer": "ipython3",
   "version": "3.9.5"
  },
  "orig_nbformat": 4
 },
 "nbformat": 4,
 "nbformat_minor": 2
}
